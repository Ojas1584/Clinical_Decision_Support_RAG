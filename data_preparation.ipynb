{
 "cells": [
  {
   "cell_type": "code",
   "execution_count": 1,
   "id": "46f56702-3646-4519-9f96-15f764bdfb8a",
   "metadata": {},
   "outputs": [
    {
     "name": "stdout",
     "output_type": "stream",
     "text": [
      "✅ Successfully connected to Weaviate.\n",
      "Collection 'MyDocumentChunk' deleted to prepare for new data.\n",
      "✅ Collection 'MyDocumentChunk' created successfully.\n"
     ]
    },
    {
     "name": "stderr",
     "output_type": "stream",
     "text": [
      "c:\\Users\\ojass\\anaconda3\\envs\\rag_py311\\Lib\\site-packages\\weaviate\\warnings.py:196: DeprecationWarning: Dep024: You are using the `vectorizer_config` argument in `collection.config.create()`, which is deprecated.\n",
      "            Use the `vector_config` argument instead.\n",
      "            \n",
      "  warnings.warn(\n"
     ]
    },
    {
     "name": "stdout",
     "output_type": "stream",
     "text": [
      "Starting ingestion of 5403 chunks from 'output_chunks_semantic.json'...\n"
     ]
    },
    {
     "name": "stderr",
     "output_type": "stream",
     "text": [
      "{'message': 'Failed to send 8 in a batch of 192', 'errors': {\"update inverted indices: put inverted indices props: no bucket for prop 'source_file' found\", \"update inverted indices: put inverted indices props: no bucket searchable for prop 'source_file' found\"}}\n",
      "{'message': 'Failed to send 8 objects in a batch of 192. Please inspect client.batch.failed_objects or collection.batch.failed_objects for the failed objects.'}\n",
      "{'message': 'Failed to send 21 in a batch of 192', 'errors': {\"update inverted indices: put inverted indices props: no bucket searchable for prop 'text' found\", \"update inverted indices: put inverted indices props: no bucket for prop 'source_file' found\", \"update inverted indices: put inverted indices props: no bucket searchable for prop 'source_file' found\"}}\n",
      "{'message': 'Failed to send 21 objects in a batch of 192. Please inspect client.batch.failed_objects or collection.batch.failed_objects for the failed objects.'}\n"
     ]
    },
    {
     "name": "stdout",
     "output_type": "stream",
     "text": [
      "✅ Ingestion complete. 1947 objects in the collection.\n",
      "Connection to Weaviate closed.\n"
     ]
    }
   ],
   "source": [
    "import weaviate\n",
    "import weaviate.classes as wvc\n",
    "import json\n",
    "import os\n",
    "\n",
    "# --- Step 1: CHOOSE YOUR CHUNK FILE HERE ---\n",
    "# Simply change the file name in this variable to ingest a different set of chunks.\n",
    "# Options: \"output_chunks_semantic.json\", \"output_chunks.json\", or any other chunk file you create.\n",
    "\n",
    "json_file_to_ingest = \"output_chunks_semantic.json\"\n",
    "\n",
    "# -------------------------------------------\n",
    "\n",
    "# --- Step 2: Connect to Weaviate ---\n",
    "client = None\n",
    "try:\n",
    "    client = weaviate.connect_to_local(port=8083, grpc_port=50052)\n",
    "    print(\"✅ Successfully connected to Weaviate.\")\n",
    "except Exception as e:\n",
    "    print(f\"❌ Connection failed: {e}\")\n",
    "\n",
    "# --- Step 3: (Re)Create the Collection ---\n",
    "if client:\n",
    "    collection_name = \"MyDocumentChunk\"\n",
    "    \n",
    "    # Delete the collection if it already exists to ensure a fresh start\n",
    "    if client.collections.exists(collection_name):\n",
    "        client.collections.delete(collection_name)\n",
    "        print(f\"Collection '{collection_name}' deleted to prepare for new data.\")\n",
    "\n",
    "    # Create the new collection\n",
    "    my_collection = client.collections.create(\n",
    "        name=collection_name,\n",
    "        vectorizer_config=wvc.config.Configure.Vectorizer.text2vec_transformers()\n",
    "    )\n",
    "    print(f\"✅ Collection '{collection_name}' created successfully.\")\n",
    "\n",
    "    # --- Step 4: Load Data and Ingest ---\n",
    "    if not os.path.exists(json_file_to_ingest):\n",
    "        print(f\"❌ Error: Data file '{json_file_to_ingest}' not found. Please check the file name.\")\n",
    "    else:\n",
    "        with open(json_file_to_ingest, \"r\", encoding=\"utf-8\") as f:\n",
    "            data = json.load(f)\n",
    "\n",
    "        print(f\"Starting ingestion of {len(data)} chunks from '{json_file_to_ingest}'...\")\n",
    "        \n",
    "        # Ingest data in batches for efficiency\n",
    "        with my_collection.batch.dynamic() as batch:\n",
    "            for item in data:\n",
    "                # This handles both old and new chunk formats\n",
    "                properties = {\n",
    "                    \"text\": item.get(\"text\", \"\"),\n",
    "                    \"source_file\": item.get(\"source_file\", \"unknown\")\n",
    "                }\n",
    "                batch.add_object(properties=properties)\n",
    "        \n",
    "        print(f\"✅ Ingestion complete. {my_collection.aggregate.over_all(total_count=True).total_count} objects in the collection.\")\n",
    "\n",
    "    client.close()\n",
    "    print(\"Connection to Weaviate closed.\")"
   ]
  },
  {
   "cell_type": "code",
   "execution_count": null,
   "id": "bffe07e0-7192-415d-9b51-6741502cc440",
   "metadata": {},
   "outputs": [],
   "source": []
  }
 ],
 "metadata": {
  "kernelspec": {
   "display_name": "Python 3",
   "language": "python",
   "name": "python3"
  },
  "language_info": {
   "codemirror_mode": {
    "name": "ipython",
    "version": 3
   },
   "file_extension": ".py",
   "mimetype": "text/x-python",
   "name": "python",
   "nbconvert_exporter": "python",
   "pygments_lexer": "ipython3",
   "version": "3.11.13"
  }
 },
 "nbformat": 4,
 "nbformat_minor": 5
}
