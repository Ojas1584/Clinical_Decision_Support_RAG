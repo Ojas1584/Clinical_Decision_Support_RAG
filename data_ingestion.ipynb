{
 "cells": [
  {
   "cell_type": "code",
   "execution_count": 1,
   "id": "903109be",
   "metadata": {},
   "outputs": [
    {
     "name": "stdout",
     "output_type": "stream",
     "text": [
      " Successfully connected to Weaviate.\n",
      "Collection 'MyDocumentChunk' deleted for a fresh start.\n"
     ]
    },
    {
     "name": "stderr",
     "output_type": "stream",
     "text": [
      "c:\\Users\\ojass\\anaconda3\\envs\\rag_py311\\Lib\\site-packages\\weaviate\\warnings.py:196: DeprecationWarning: Dep024: You are using the `vectorizer_config` argument in `collection.config.create()`, which is deprecated.\n",
      "            Use the `vector_config` argument instead.\n",
      "            \n",
      "  warnings.warn(\n"
     ]
    },
    {
     "name": "stdout",
     "output_type": "stream",
     "text": [
      " Collection created with 'text' and 'source_file' properties.\n",
      " Starting ingestion for 22415 chunks...\n",
      " Ingestion complete. Total objects: 22415\n",
      "\n",
      "Connection closed.\n"
     ]
    }
   ],
   "source": [
    "import weaviate\n",
    "import weaviate.classes as wvc\n",
    "import json\n",
    "import os\n",
    "import time\n",
    "\n",
    "# --- 1. CONFIGURATION ---\n",
    "files_to_ingest = [\n",
    "    \"chunks_with_embeddings.json\",\n",
    "    \"chunks_with_embeddings2.json\",\n",
    "    \"chunks_with_embeddings3.json\",\n",
    "    \"chunks_with_embeddings4.json\",\n",
    "    \"ICMRBreastCancer_noun_chunks_with_embeddings.json\",\n",
    "    \"ICMRBuccalMucosaCancer_noun_chunks.json\",\n",
    "    \"ICMRCervixCancer_noun_chunks_with_embeddings.json\"\n",
    "    \n",
    "]\n",
    "\n",
    "# --- 2. CONNECT AND RECREATE COLLECTION ---\n",
    "client = None\n",
    "try:\n",
    "    client = weaviate.connect_to_local(port=8083, grpc_port=50052)\n",
    "    print(\" Successfully connected to Weaviate.\")\n",
    "    \n",
    "    collection_name = \"MyDocumentChunk\"\n",
    "    \n",
    "    # Delete and recreate the collection to ensure the new schema is applied\n",
    "    if client.collections.exists(collection_name):\n",
    "        client.collections.delete(collection_name)\n",
    "        print(f\"Collection '{collection_name}' deleted for a fresh start.\")\n",
    "\n",
    "    # Configure the collection with the 'source_file' property\n",
    "    my_collection = client.collections.create(\n",
    "        name=collection_name,\n",
    "        vectorizer_config=wvc.config.Configure.Vectorizer.text2vec_transformers(),\n",
    "        properties=[\n",
    "            wvc.config.Property(name=\"text\", data_type=wvc.config.DataType.TEXT),\n",
    "            # CORRECTED: Schema defines 'source_file'\n",
    "            wvc.config.Property(name=\"source_file\", data_type=wvc.config.DataType.TEXT)\n",
    "        ]\n",
    "    )\n",
    "    print(f\" Collection created with 'text' and 'source_file' properties.\")\n",
    "\n",
    "    # --- 3. LOAD AND INGEST DATA ---\n",
    "    all_chunks_to_ingest = []\n",
    "    \n",
    "    for file_name in files_to_ingest:\n",
    "        try:\n",
    "            with open(file_name, \"r\", encoding=\"utf-8\") as f:\n",
    "                data = json.load(f)\n",
    "                all_chunks_to_ingest.extend(data)\n",
    "\n",
    "        except Exception as e:\n",
    "            print(f\" Error reading '{file_name}': {e}\")\n",
    "    \n",
    "    if all_chunks_to_ingest:\n",
    "        print(f\" Starting ingestion for {len(all_chunks_to_ingest)} chunks...\")\n",
    "        \n",
    "        with my_collection.batch.dynamic() as batch_manager:\n",
    "            for i, item in enumerate(all_chunks_to_ingest):\n",
    "                if item.get(\"text\") and item.get(\"source_file\"):\n",
    "                    batch_manager.add_object(\n",
    "                        properties={\n",
    "                            \"text\": item[\"text\"],\n",
    "                            # CORRECTED: Inserting the 'source_file' value\n",
    "                            \"source_file\": item[\"source_file\"] \n",
    "                        }\n",
    "                    )\n",
    "        \n",
    "        total_objects = my_collection.aggregate.over_all(total_count=True).total_count\n",
    "        print(f\" Ingestion complete. Total objects: {total_objects}\")\n",
    "\n",
    "finally:\n",
    "    if client and client.is_connected():\n",
    "        client.close()\n",
    "        print(\"\\nConnection closed.\")"
   ]
  },
  {
   "cell_type": "code",
   "execution_count": null,
   "id": "92fb36af",
   "metadata": {},
   "outputs": [],
   "source": []
  },
  {
   "cell_type": "code",
   "execution_count": null,
   "id": "5c3d16e3",
   "metadata": {},
   "outputs": [],
   "source": []
  }
 ],
 "metadata": {
  "kernelspec": {
   "display_name": "rag_py311",
   "language": "python",
   "name": "python3"
  },
  "language_info": {
   "codemirror_mode": {
    "name": "ipython",
    "version": 3
   },
   "file_extension": ".py",
   "mimetype": "text/x-python",
   "name": "python",
   "nbconvert_exporter": "python",
   "pygments_lexer": "ipython3",
   "version": "3.11.13"
  }
 },
 "nbformat": 4,
 "nbformat_minor": 5
}
